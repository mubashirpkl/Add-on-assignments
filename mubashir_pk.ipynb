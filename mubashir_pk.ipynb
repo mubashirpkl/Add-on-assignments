{
  "nbformat": 4,
  "nbformat_minor": 0,
  "metadata": {
    "colab": {
      "provenance": []
    },
    "kernelspec": {
      "name": "python3",
      "display_name": "Python 3"
    },
    "language_info": {
      "name": "python"
    }
  },
  "cells": [
    {
      "cell_type": "code",
      "execution_count": 1,
      "metadata": {
        "id": "UJP68i30vObr",
        "colab": {
          "base_uri": "https://localhost:8080/"
        },
        "outputId": "06ea449c-1022-4d44-91b9-0171de155391"
      },
      "outputs": [
        {
          "output_type": "stream",
          "name": "stdout",
          "text": [
            "The area of the circle with the radius 8 is: 201.06192982974676\n"
          ]
        }
      ],
      "source": [
        "'''1.Write a Python program to find the' area of a circle with a given radius using the formula area = pi * r ** 2. Assume that pi is 3.14.'''\n",
        "\n",
        "import math\n",
        "r=8\n",
        "area=math.pi*r**2\n",
        "print(\"The area of the circle with the radius\",r,\"is:\",area)"
      ]
    },
    {
      "cell_type": "code",
      "source": [
        "'''2.Write a Python program to convert Celsius to Fahrenheit using the formula F = (C * 9/5) + 32'''\n",
        "\n",
        "c=float(input(\"Enter the celsius:\"))\n",
        "f = (c * 9/5) + 32\n",
        "print(\"The temperature in Fahrenheit is:\", f)"
      ],
      "metadata": {
        "id": "zvsOhx4yvSK5",
        "colab": {
          "base_uri": "https://localhost:8080/"
        },
        "outputId": "040a421a-8858-4fe2-b3d2-dc92d26fa9eb"
      },
      "execution_count": 2,
      "outputs": [
        {
          "output_type": "stream",
          "name": "stdout",
          "text": [
            "Enter the celsius:45\n",
            "The temperature in Fahrenheit is: 113.0\n"
          ]
        }
      ]
    },
    {
      "cell_type": "code",
      "source": [
        "'''3.Write a Python program to find the quotient and remainder of two numbers using the division operator / and the modulo operator %.'''\n",
        "\n",
        "a=int(input(\"Enter the first number:\"))\n",
        "b=int(input(\"Enter the second number:\"))\n",
        "quo=a/b\n",
        "rem=a%b\n",
        "print(\"The quotient of\",a,\"and\",b,\"is:\",quo)\n",
        "print(\"The remainder of\",a,\"and\",b,\"is:\",rem)"
      ],
      "metadata": {
        "id": "n3lwgFcDvV1h",
        "colab": {
          "base_uri": "https://localhost:8080/"
        },
        "outputId": "12254b9a-4b99-48d5-c862-3e64fc366755"
      },
      "execution_count": 3,
      "outputs": [
        {
          "output_type": "stream",
          "name": "stdout",
          "text": [
            "Enter the first number:4\n",
            "Enter the second number:6\n",
            "The quotient of 4 and 6 is: 0.6666666666666666\n",
            "The remainder of 4 and 6 is: 4\n"
          ]
        }
      ]
    },
    {
      "cell_type": "code",
      "source": [
        "'''4.Write a python program to check whether a given number is even or odd using the modulo operator %'''\n",
        "\n",
        "a=int(input(\"Enter the naumber:\"))\n",
        "if a%2==0:\n",
        "  print(\"It is even\")\n",
        "else:\n",
        "  print(\"It is odd\")"
      ],
      "metadata": {
        "id": "bxaRZPGvvZiY",
        "colab": {
          "base_uri": "https://localhost:8080/"
        },
        "outputId": "75d802e3-9127-4d5e-ab10-5b4766ab7a82"
      },
      "execution_count": 4,
      "outputs": [
        {
          "output_type": "stream",
          "name": "stdout",
          "text": [
            "Enter the naumber:6\n",
            "It is even\n"
          ]
        }
      ]
    },
    {
      "cell_type": "code",
      "source": [
        "'''5.Write a Python program to calculate the average of three numbers entered by the user.'''\n",
        "a=int(input(\"Enter the first number:\"))\n",
        "b=int(input(\"Enter the second number:\"))\n",
        "c=int(input(\"Enter the third number:\"))\n",
        "avg=(a+b+c)/3\n",
        "print(\"The average of\",a,b,\"and\",c,\"is:\",avg)"
      ],
      "metadata": {
        "id": "EVWcOJQNvdqY",
        "colab": {
          "base_uri": "https://localhost:8080/"
        },
        "outputId": "769639c9-3de2-4566-9b25-3ba5bf2295c1"
      },
      "execution_count": 5,
      "outputs": [
        {
          "output_type": "stream",
          "name": "stdout",
          "text": [
            "Enter the first number:23\n",
            "Enter the second number:3\n",
            "Enter the third number:23\n",
            "The average of 23 3 and 23 is: 16.333333333333332\n"
          ]
        }
      ]
    },
    {
      "cell_type": "code",
      "source": [
        "'''6.Write a program to swap two variables without using a temporary variable'''\n",
        "\n",
        "a=6\n",
        "b=6\n",
        "a=a+b\n",
        "b=a-b\n",
        "a=a-b\n",
        "print(\"The value of a is now =\", a)\n",
        "print(\"The value of b is now =\", b)"
      ],
      "metadata": {
        "id": "S_1EkgU7viax",
        "colab": {
          "base_uri": "https://localhost:8080/"
        },
        "outputId": "a193d056-9409-4e2d-f5f1-1946803a9f6f"
      },
      "execution_count": 6,
      "outputs": [
        {
          "output_type": "stream",
          "name": "stdout",
          "text": [
            "The value of a is now = 6\n",
            "The value of b is now = 6\n"
          ]
        }
      ]
    },
    {
      "cell_type": "code",
      "source": [
        "'''7.Write a Python program to calculate the area of a rectangle with given length and breadth.'''\n",
        "\n",
        "l=90\n",
        "b=82\n",
        "area=l*b\n",
        "print(\"The area of the rectangle is:\",area)"
      ],
      "metadata": {
        "colab": {
          "base_uri": "https://localhost:8080/"
        },
        "id": "SUaFA18mvmOb",
        "outputId": "c99a9892-2fa3-4236-d0f7-bde96f8d383c"
      },
      "execution_count": 7,
      "outputs": [
        {
          "output_type": "stream",
          "name": "stdout",
          "text": [
            "The area of the rectangle is: 7380\n"
          ]
        }
      ]
    },
    {
      "cell_type": "code",
      "source": [
        "'''8.Write a Python program to calculate the average of three numbers entered by the user.'''\n",
        "a=int(input(\"Enter the first number:\"))\n",
        "b=int(input(\"Enter the second number:\"))\n",
        "c=int(input(\"Enter the third number:\"))\n",
        "avg=(a+b+c)/3\n",
        "print(\"The average of\",a,\",\",b,\"and\",c,\"is:\",avg)"
      ],
      "metadata": {
        "id": "xsRqIdSBwRxw",
        "colab": {
          "base_uri": "https://localhost:8080/"
        },
        "outputId": "64410ad4-62bf-42db-cb96-85fe47c8a9ad"
      },
      "execution_count": 8,
      "outputs": [
        {
          "output_type": "stream",
          "name": "stdout",
          "text": [
            "Enter the first number:2\n",
            "Enter the second number:63\n",
            "Enter the third number:8\n",
            "The average of 2 , 63 and 8 is: 24.333333333333332\n"
          ]
        }
      ]
    },
    {
      "cell_type": "code",
      "source": [
        "'''9.Write a Python program to check whether a given year is a leap year or not.'''\n",
        "\n",
        "yr=int(input(\"Enter a year:\"))\n",
        "if yr%4==0 and yr%100 !=0 or yr%400==0:\n",
        "  print(yr,\"is a leap year\")\n",
        "else:\n",
        "  print(yr,\"is not a leap year\")"
      ],
      "metadata": {
        "id": "Cgm0E7aiv14p",
        "colab": {
          "base_uri": "https://localhost:8080/"
        },
        "outputId": "af288442-12e3-4c09-9203-0a21627d2d79"
      },
      "execution_count": 9,
      "outputs": [
        {
          "output_type": "stream",
          "name": "stdout",
          "text": [
            "Enter a year:2014\n",
            "2014 is not a leap year\n"
          ]
        }
      ]
    },
    {
      "cell_type": "code",
      "source": [
        "'''10.Write a Python program to find the maximum and minimum of two numbers entered by the user.'''\n",
        "\n",
        "import math\n",
        "a=int(input(\"Enter the first number:\"))\n",
        "b=int(input(\"Enter the second number:\"))\n",
        "if a>b:\n",
        "  max=a\n",
        "  min=b\n",
        "else:\n",
        "  max=b\n",
        "  min=a\n",
        "print(\"The maximum of\",a,\"and\",b,\"is:\",max)\n",
        "print(\"The minimum of\",a,\"and\",b,\"is:\",min)"
      ],
      "metadata": {
        "id": "qtlqvQE4v6NY",
        "colab": {
          "base_uri": "https://localhost:8080/"
        },
        "outputId": "c013ed28-5f9f-499c-e077-040be161be1a"
      },
      "execution_count": 10,
      "outputs": [
        {
          "output_type": "stream",
          "name": "stdout",
          "text": [
            "Enter the first number:2\n",
            "Enter the second number:9\n",
            "The maximum of 2 and 9 is: 9\n",
            "The minimum of 2 and 9 is: 2\n"
          ]
        }
      ]
    }
  ]
}